{
  "nbformat": 4,
  "nbformat_minor": 0,
  "metadata": {
    "colab": {
      "name": "Pre-process raw tweets for information extraction.ipynb",
      "provenance": [],
      "toc_visible": true
    },
    "kernelspec": {
      "name": "python3",
      "display_name": "Python 3"
    }
  },
  "cells": [
    {
      "cell_type": "markdown",
      "metadata": {
        "id": "szavnHXh4cGW"
      },
      "source": [
        "# Load dataset from local machine"
      ]
    },
    {
      "cell_type": "code",
      "metadata": {
        "colab": {
          "resources": {
            "http://localhost:8080/nbextensions/google.colab/files.js": {
              "data": "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",
              "ok": true,
              "headers": [
                [
                  "content-type",
                  "application/javascript"
                ]
              ],
              "status": 200,
              "status_text": ""
            }
          },
          "base_uri": "https://localhost:8080/",
          "height": 72
        },
        "id": "xPuHbgrt2SU4",
        "outputId": "d9030cc4-74c9-48a5-fa6e-aa7548d2d370"
      },
      "source": [
        "import pandas as pd\r\n",
        "import re\r\n",
        "from google.colab import files\r\n",
        "uploaded = files.upload()# select file from local machine to load\r\n",
        "\r\n"
      ],
      "execution_count": 4,
      "outputs": [
        {
          "output_type": "display_data",
          "data": {
            "text/html": [
              "\n",
              "     <input type=\"file\" id=\"files-aca04565-6a6a-4fa9-86f5-3c56ce2fb9bb\" name=\"files[]\" multiple disabled\n",
              "        style=\"border:none\" />\n",
              "     <output id=\"result-aca04565-6a6a-4fa9-86f5-3c56ce2fb9bb\">\n",
              "      Upload widget is only available when the cell has been executed in the\n",
              "      current browser session. Please rerun this cell to enable.\n",
              "      </output>\n",
              "      <script src=\"/nbextensions/google.colab/files.js\"></script> "
            ],
            "text/plain": [
              "<IPython.core.display.HTML object>"
            ]
          },
          "metadata": {
            "tags": []
          }
        },
        {
          "output_type": "stream",
          "text": [
            "Saving Royal_tweetdf.csv to Royal_tweetdf.csv\n"
          ],
          "name": "stdout"
        }
      ]
    },
    {
      "cell_type": "markdown",
      "metadata": {
        "id": "9owa44is4fyf"
      },
      "source": [
        "# Read dataset as pandas dataframe"
      ]
    },
    {
      "cell_type": "code",
      "metadata": {
        "colab": {
          "base_uri": "https://localhost:8080/",
          "height": 204
        },
        "id": "J8W3SKzw4jF4",
        "outputId": "da605a11-d8c7-49a8-f1ed-895c3406b46e"
      },
      "source": [
        "filename=\"Royal_tweetdf.csv\"\r\n",
        "df = pd.read_csv(filename)\r\n",
        "df.head()\r\n"
      ],
      "execution_count": 5,
      "outputs": [
        {
          "output_type": "execute_result",
          "data": {
            "text/html": [
              "<div>\n",
              "<style scoped>\n",
              "    .dataframe tbody tr th:only-of-type {\n",
              "        vertical-align: middle;\n",
              "    }\n",
              "\n",
              "    .dataframe tbody tr th {\n",
              "        vertical-align: top;\n",
              "    }\n",
              "\n",
              "    .dataframe thead th {\n",
              "        text-align: right;\n",
              "    }\n",
              "</style>\n",
              "<table border=\"1\" class=\"dataframe\">\n",
              "  <thead>\n",
              "    <tr style=\"text-align: right;\">\n",
              "      <th></th>\n",
              "      <th>tweet_id</th>\n",
              "      <th>tweet_created_at</th>\n",
              "      <th>tweet_raw</th>\n",
              "      <th>tweet_retweet_count</th>\n",
              "      <th>tweet_favorite_count</th>\n",
              "      <th>Search_keyword</th>\n",
              "      <th>Date</th>\n",
              "    </tr>\n",
              "  </thead>\n",
              "  <tbody>\n",
              "    <tr>\n",
              "      <th>0</th>\n",
              "      <td>1361644136101724161</td>\n",
              "      <td>2021-02-16 11:50:34</td>\n",
              "      <td>b'@thejbird904 Totally random luchadore battle...</td>\n",
              "      <td>0</td>\n",
              "      <td>0</td>\n",
              "      <td>Royal</td>\n",
              "      <td>2021-02-16 11:52</td>\n",
              "    </tr>\n",
              "    <tr>\n",
              "      <th>1</th>\n",
              "      <td>1361644113075052553</td>\n",
              "      <td>2021-02-16 11:50:29</td>\n",
              "      <td>b\"#Otd 1890: Death #Dublin's Sir Robert Kane, ...</td>\n",
              "      <td>0</td>\n",
              "      <td>0</td>\n",
              "      <td>Royal</td>\n",
              "      <td>2021-02-16 11:52</td>\n",
              "    </tr>\n",
              "    <tr>\n",
              "      <th>2</th>\n",
              "      <td>1361644081345142790</td>\n",
              "      <td>2021-02-16 11:50:21</td>\n",
              "      <td>b\"@FENNERGY Cas your ears aren't even /that/ b...</td>\n",
              "      <td>0</td>\n",
              "      <td>0</td>\n",
              "      <td>Royal</td>\n",
              "      <td>2021-02-16 11:52</td>\n",
              "    </tr>\n",
              "    <tr>\n",
              "      <th>3</th>\n",
              "      <td>1361644049598451714</td>\n",
              "      <td>2021-02-16 11:50:14</td>\n",
              "      <td>b'No post in over a week due to Royal Mail sta...</td>\n",
              "      <td>0</td>\n",
              "      <td>0</td>\n",
              "      <td>Royal</td>\n",
              "      <td>2021-02-16 11:52</td>\n",
              "    </tr>\n",
              "    <tr>\n",
              "      <th>4</th>\n",
              "      <td>1361644041847386116</td>\n",
              "      <td>2021-02-16 11:50:12</td>\n",
              "      <td>b\"Prince Harry sparks 'serious' constitutional...</td>\n",
              "      <td>0</td>\n",
              "      <td>0</td>\n",
              "      <td>Royal</td>\n",
              "      <td>2021-02-16 11:52</td>\n",
              "    </tr>\n",
              "  </tbody>\n",
              "</table>\n",
              "</div>"
            ],
            "text/plain": [
              "              tweet_id     tweet_created_at  ... Search_keyword              Date\n",
              "0  1361644136101724161  2021-02-16 11:50:34  ...          Royal  2021-02-16 11:52\n",
              "1  1361644113075052553  2021-02-16 11:50:29  ...          Royal  2021-02-16 11:52\n",
              "2  1361644081345142790  2021-02-16 11:50:21  ...          Royal  2021-02-16 11:52\n",
              "3  1361644049598451714  2021-02-16 11:50:14  ...          Royal  2021-02-16 11:52\n",
              "4  1361644041847386116  2021-02-16 11:50:12  ...          Royal  2021-02-16 11:52\n",
              "\n",
              "[5 rows x 7 columns]"
            ]
          },
          "metadata": {
            "tags": []
          },
          "execution_count": 5
        }
      ]
    },
    {
      "cell_type": "code",
      "metadata": {
        "id": "CL66Z78D4u6O"
      },
      "source": [
        "df['tweet_text']=df['tweet_raw']"
      ],
      "execution_count": 7,
      "outputs": []
    },
    {
      "cell_type": "markdown",
      "metadata": {
        "id": "b02sYs3V2rm9"
      },
      "source": [
        "# 1. Remove Latin-1, ASCII & Hex characters"
      ]
    },
    {
      "cell_type": "code",
      "metadata": {
        "colab": {
          "base_uri": "https://localhost:8080/",
          "height": 289
        },
        "id": "k45MNDaH2pj2",
        "outputId": "a8a3579f-cf43-4e16-8ba8-dc7bd1c604b6"
      },
      "source": [
        "\r\n",
        "def clear_latin1_hex_chars(text):\r\n",
        "  text=re.sub(r'(\\\\x(.){2})', '',text)\r\n",
        "  return text\r\n",
        "\r\n",
        "df['tweet_text']=df['tweet_text'].apply(clear_latin1_hex_chars)\r\n",
        "df.head()"
      ],
      "execution_count": 8,
      "outputs": [
        {
          "output_type": "execute_result",
          "data": {
            "text/html": [
              "<div>\n",
              "<style scoped>\n",
              "    .dataframe tbody tr th:only-of-type {\n",
              "        vertical-align: middle;\n",
              "    }\n",
              "\n",
              "    .dataframe tbody tr th {\n",
              "        vertical-align: top;\n",
              "    }\n",
              "\n",
              "    .dataframe thead th {\n",
              "        text-align: right;\n",
              "    }\n",
              "</style>\n",
              "<table border=\"1\" class=\"dataframe\">\n",
              "  <thead>\n",
              "    <tr style=\"text-align: right;\">\n",
              "      <th></th>\n",
              "      <th>tweet_id</th>\n",
              "      <th>tweet_created_at</th>\n",
              "      <th>tweet_raw</th>\n",
              "      <th>tweet_retweet_count</th>\n",
              "      <th>tweet_favorite_count</th>\n",
              "      <th>Search_keyword</th>\n",
              "      <th>Date</th>\n",
              "      <th>tweet_text</th>\n",
              "    </tr>\n",
              "  </thead>\n",
              "  <tbody>\n",
              "    <tr>\n",
              "      <th>0</th>\n",
              "      <td>1361644136101724161</td>\n",
              "      <td>2021-02-16 11:50:34</td>\n",
              "      <td>b'@thejbird904 Totally random luchadore battle...</td>\n",
              "      <td>0</td>\n",
              "      <td>0</td>\n",
              "      <td>Royal</td>\n",
              "      <td>2021-02-16 11:52</td>\n",
              "      <td>b'@thejbird904 Totally random luchadore battle...</td>\n",
              "    </tr>\n",
              "    <tr>\n",
              "      <th>1</th>\n",
              "      <td>1361644113075052553</td>\n",
              "      <td>2021-02-16 11:50:29</td>\n",
              "      <td>b\"#Otd 1890: Death #Dublin's Sir Robert Kane, ...</td>\n",
              "      <td>0</td>\n",
              "      <td>0</td>\n",
              "      <td>Royal</td>\n",
              "      <td>2021-02-16 11:52</td>\n",
              "      <td>b\"#Otd 1890: Death #Dublin's Sir Robert Kane, ...</td>\n",
              "    </tr>\n",
              "    <tr>\n",
              "      <th>2</th>\n",
              "      <td>1361644081345142790</td>\n",
              "      <td>2021-02-16 11:50:21</td>\n",
              "      <td>b\"@FENNERGY Cas your ears aren't even /that/ b...</td>\n",
              "      <td>0</td>\n",
              "      <td>0</td>\n",
              "      <td>Royal</td>\n",
              "      <td>2021-02-16 11:52</td>\n",
              "      <td>b\"@FENNERGY Cas your ears aren't even /that/ b...</td>\n",
              "    </tr>\n",
              "    <tr>\n",
              "      <th>3</th>\n",
              "      <td>1361644049598451714</td>\n",
              "      <td>2021-02-16 11:50:14</td>\n",
              "      <td>b'No post in over a week due to Royal Mail sta...</td>\n",
              "      <td>0</td>\n",
              "      <td>0</td>\n",
              "      <td>Royal</td>\n",
              "      <td>2021-02-16 11:52</td>\n",
              "      <td>b'No post in over a week due to Royal Mail sta...</td>\n",
              "    </tr>\n",
              "    <tr>\n",
              "      <th>4</th>\n",
              "      <td>1361644041847386116</td>\n",
              "      <td>2021-02-16 11:50:12</td>\n",
              "      <td>b\"Prince Harry sparks 'serious' constitutional...</td>\n",
              "      <td>0</td>\n",
              "      <td>0</td>\n",
              "      <td>Royal</td>\n",
              "      <td>2021-02-16 11:52</td>\n",
              "      <td>b\"Prince Harry sparks 'serious' constitutional...</td>\n",
              "    </tr>\n",
              "  </tbody>\n",
              "</table>\n",
              "</div>"
            ],
            "text/plain": [
              "              tweet_id  ...                                         tweet_text\n",
              "0  1361644136101724161  ...  b'@thejbird904 Totally random luchadore battle...\n",
              "1  1361644113075052553  ...  b\"#Otd 1890: Death #Dublin's Sir Robert Kane, ...\n",
              "2  1361644081345142790  ...  b\"@FENNERGY Cas your ears aren't even /that/ b...\n",
              "3  1361644049598451714  ...  b'No post in over a week due to Royal Mail sta...\n",
              "4  1361644041847386116  ...  b\"Prince Harry sparks 'serious' constitutional...\n",
              "\n",
              "[5 rows x 8 columns]"
            ]
          },
          "metadata": {
            "tags": []
          },
          "execution_count": 8
        }
      ]
    },
    {
      "cell_type": "markdown",
      "metadata": {
        "id": "kh43LXoy208R"
      },
      "source": [
        "# 2. Remove HTML tags"
      ]
    },
    {
      "cell_type": "code",
      "metadata": {
        "colab": {
          "base_uri": "https://localhost:8080/",
          "height": 289
        },
        "id": "NNSKwDkq23Vm",
        "outputId": "13b98857-2dad-48fb-ed3b-68b7e65bba91"
      },
      "source": [
        "import html.parser\r\n",
        "import bs4\r\n",
        "def htmlparse(dataframe):\r\n",
        "  dataframe['tweet_text']=dataframe['tweet_text'].astype(str)\r\n",
        "  df=dataframe['tweet_text'].apply(lambda x: bs4.BeautifulSoup(x, 'lxml').get_text())\r\n",
        "  df=df.drop_duplicates()\r\n",
        "  return df\r\n",
        "\r\n",
        "df['tweet_text']=htmlparse(df)\r\n",
        "df.head()"
      ],
      "execution_count": 9,
      "outputs": [
        {
          "output_type": "execute_result",
          "data": {
            "text/html": [
              "<div>\n",
              "<style scoped>\n",
              "    .dataframe tbody tr th:only-of-type {\n",
              "        vertical-align: middle;\n",
              "    }\n",
              "\n",
              "    .dataframe tbody tr th {\n",
              "        vertical-align: top;\n",
              "    }\n",
              "\n",
              "    .dataframe thead th {\n",
              "        text-align: right;\n",
              "    }\n",
              "</style>\n",
              "<table border=\"1\" class=\"dataframe\">\n",
              "  <thead>\n",
              "    <tr style=\"text-align: right;\">\n",
              "      <th></th>\n",
              "      <th>tweet_id</th>\n",
              "      <th>tweet_created_at</th>\n",
              "      <th>tweet_raw</th>\n",
              "      <th>tweet_retweet_count</th>\n",
              "      <th>tweet_favorite_count</th>\n",
              "      <th>Search_keyword</th>\n",
              "      <th>Date</th>\n",
              "      <th>tweet_text</th>\n",
              "    </tr>\n",
              "  </thead>\n",
              "  <tbody>\n",
              "    <tr>\n",
              "      <th>0</th>\n",
              "      <td>1361644136101724161</td>\n",
              "      <td>2021-02-16 11:50:34</td>\n",
              "      <td>b'@thejbird904 Totally random luchadore battle...</td>\n",
              "      <td>0</td>\n",
              "      <td>0</td>\n",
              "      <td>Royal</td>\n",
              "      <td>2021-02-16 11:52</td>\n",
              "      <td>b'@thejbird904 Totally random luchadore battle...</td>\n",
              "    </tr>\n",
              "    <tr>\n",
              "      <th>1</th>\n",
              "      <td>1361644113075052553</td>\n",
              "      <td>2021-02-16 11:50:29</td>\n",
              "      <td>b\"#Otd 1890: Death #Dublin's Sir Robert Kane, ...</td>\n",
              "      <td>0</td>\n",
              "      <td>0</td>\n",
              "      <td>Royal</td>\n",
              "      <td>2021-02-16 11:52</td>\n",
              "      <td>b\"#Otd 1890: Death #Dublin's Sir Robert Kane, ...</td>\n",
              "    </tr>\n",
              "    <tr>\n",
              "      <th>2</th>\n",
              "      <td>1361644081345142790</td>\n",
              "      <td>2021-02-16 11:50:21</td>\n",
              "      <td>b\"@FENNERGY Cas your ears aren't even /that/ b...</td>\n",
              "      <td>0</td>\n",
              "      <td>0</td>\n",
              "      <td>Royal</td>\n",
              "      <td>2021-02-16 11:52</td>\n",
              "      <td>b\"@FENNERGY Cas your ears aren't even /that/ b...</td>\n",
              "    </tr>\n",
              "    <tr>\n",
              "      <th>3</th>\n",
              "      <td>1361644049598451714</td>\n",
              "      <td>2021-02-16 11:50:14</td>\n",
              "      <td>b'No post in over a week due to Royal Mail sta...</td>\n",
              "      <td>0</td>\n",
              "      <td>0</td>\n",
              "      <td>Royal</td>\n",
              "      <td>2021-02-16 11:52</td>\n",
              "      <td>b'No post in over a week due to Royal Mail sta...</td>\n",
              "    </tr>\n",
              "    <tr>\n",
              "      <th>4</th>\n",
              "      <td>1361644041847386116</td>\n",
              "      <td>2021-02-16 11:50:12</td>\n",
              "      <td>b\"Prince Harry sparks 'serious' constitutional...</td>\n",
              "      <td>0</td>\n",
              "      <td>0</td>\n",
              "      <td>Royal</td>\n",
              "      <td>2021-02-16 11:52</td>\n",
              "      <td>b\"Prince Harry sparks 'serious' constitutional...</td>\n",
              "    </tr>\n",
              "  </tbody>\n",
              "</table>\n",
              "</div>"
            ],
            "text/plain": [
              "              tweet_id  ...                                         tweet_text\n",
              "0  1361644136101724161  ...  b'@thejbird904 Totally random luchadore battle...\n",
              "1  1361644113075052553  ...  b\"#Otd 1890: Death #Dublin's Sir Robert Kane, ...\n",
              "2  1361644081345142790  ...  b\"@FENNERGY Cas your ears aren't even /that/ b...\n",
              "3  1361644049598451714  ...  b'No post in over a week due to Royal Mail sta...\n",
              "4  1361644041847386116  ...  b\"Prince Harry sparks 'serious' constitutional...\n",
              "\n",
              "[5 rows x 8 columns]"
            ]
          },
          "metadata": {
            "tags": []
          },
          "execution_count": 9
        }
      ]
    },
    {
      "cell_type": "markdown",
      "metadata": {
        "id": "G2JBCLPY24gq"
      },
      "source": [
        "# 3.Extract mentions, urls and hashtags"
      ]
    },
    {
      "cell_type": "code",
      "metadata": {
        "colab": {
          "base_uri": "https://localhost:8080/",
          "height": 445
        },
        "id": "sv6sQB9f28PN",
        "outputId": "27e375f2-eb47-453d-9cbe-3f20357f5b12"
      },
      "source": [
        "URLPATTERN = r'(https?://\\S+)'\r\n",
        "def get_extractions(df):\r\n",
        "  df['tweet_text']=df['tweet_text'].astype(str)\r\n",
        "  df['mentions'] = df['tweet_text'].str.findall(r'(?<=@)\\w+').apply(','.join)\r\n",
        "  df['hashtags']=df['tweet_text'].str.findall(r\"#(\\w+)\").apply(','.join)\r\n",
        "  df['URLs'] = df.tweet_text.apply(lambda x: re.findall(URLPATTERN, x))\r\n",
        "  df['email_address']=df['tweet_text'].str.findall('(\\S+@\\S+)')\r\n",
        "  return df\r\n",
        "\r\n",
        "df=get_extractions(df)\r\n",
        "df.head()"
      ],
      "execution_count": 10,
      "outputs": [
        {
          "output_type": "execute_result",
          "data": {
            "text/html": [
              "<div>\n",
              "<style scoped>\n",
              "    .dataframe tbody tr th:only-of-type {\n",
              "        vertical-align: middle;\n",
              "    }\n",
              "\n",
              "    .dataframe tbody tr th {\n",
              "        vertical-align: top;\n",
              "    }\n",
              "\n",
              "    .dataframe thead th {\n",
              "        text-align: right;\n",
              "    }\n",
              "</style>\n",
              "<table border=\"1\" class=\"dataframe\">\n",
              "  <thead>\n",
              "    <tr style=\"text-align: right;\">\n",
              "      <th></th>\n",
              "      <th>tweet_id</th>\n",
              "      <th>tweet_created_at</th>\n",
              "      <th>tweet_raw</th>\n",
              "      <th>tweet_retweet_count</th>\n",
              "      <th>tweet_favorite_count</th>\n",
              "      <th>Search_keyword</th>\n",
              "      <th>Date</th>\n",
              "      <th>tweet_text</th>\n",
              "      <th>mentions2</th>\n",
              "      <th>hashtags</th>\n",
              "      <th>URLs</th>\n",
              "      <th>email_address</th>\n",
              "    </tr>\n",
              "  </thead>\n",
              "  <tbody>\n",
              "    <tr>\n",
              "      <th>0</th>\n",
              "      <td>1361644136101724161</td>\n",
              "      <td>2021-02-16 11:50:34</td>\n",
              "      <td>b'@thejbird904 Totally random luchadore battle...</td>\n",
              "      <td>0</td>\n",
              "      <td>0</td>\n",
              "      <td>Royal</td>\n",
              "      <td>2021-02-16 11:52</td>\n",
              "      <td>b'@thejbird904 Totally random luchadore battle...</td>\n",
              "      <td>thejbird904</td>\n",
              "      <td></td>\n",
              "      <td>[]</td>\n",
              "      <td>[b'@thejbird904]</td>\n",
              "    </tr>\n",
              "    <tr>\n",
              "      <th>1</th>\n",
              "      <td>1361644113075052553</td>\n",
              "      <td>2021-02-16 11:50:29</td>\n",
              "      <td>b\"#Otd 1890: Death #Dublin's Sir Robert Kane, ...</td>\n",
              "      <td>0</td>\n",
              "      <td>0</td>\n",
              "      <td>Royal</td>\n",
              "      <td>2021-02-16 11:52</td>\n",
              "      <td>b\"#Otd 1890: Death #Dublin's Sir Robert Kane, ...</td>\n",
              "      <td>CMU_TCD,UCC,RIAdawson</td>\n",
              "      <td>Otd,Dublin</td>\n",
              "      <td>[https://t.co/xZyJi1XNcK, https://t.co/P3RKcBg...</td>\n",
              "      <td>[Education.@CMU_TCD.]</td>\n",
              "    </tr>\n",
              "    <tr>\n",
              "      <th>2</th>\n",
              "      <td>1361644081345142790</td>\n",
              "      <td>2021-02-16 11:50:21</td>\n",
              "      <td>b\"@FENNERGY Cas your ears aren't even /that/ b...</td>\n",
              "      <td>0</td>\n",
              "      <td>0</td>\n",
              "      <td>Royal</td>\n",
              "      <td>2021-02-16 11:52</td>\n",
              "      <td>b\"@FENNERGY Cas your ears aren't even /that/ b...</td>\n",
              "      <td>FENNERGY</td>\n",
              "      <td></td>\n",
              "      <td>[]</td>\n",
              "      <td>[b\"@FENNERGY]</td>\n",
              "    </tr>\n",
              "    <tr>\n",
              "      <th>3</th>\n",
              "      <td>1361644049598451714</td>\n",
              "      <td>2021-02-16 11:50:14</td>\n",
              "      <td>b'No post in over a week due to Royal Mail sta...</td>\n",
              "      <td>0</td>\n",
              "      <td>0</td>\n",
              "      <td>Royal</td>\n",
              "      <td>2021-02-16 11:52</td>\n",
              "      <td>b'No post in over a week due to Royal Mail sta...</td>\n",
              "      <td>JohnCryerMP,Jcblackman,dhmt93,CllrRosaGomez,Be...</td>\n",
              "      <td></td>\n",
              "      <td>[https://t.co/CTpmvmXcfA]</td>\n",
              "      <td>[]</td>\n",
              "    </tr>\n",
              "    <tr>\n",
              "      <th>4</th>\n",
              "      <td>1361644041847386116</td>\n",
              "      <td>2021-02-16 11:50:12</td>\n",
              "      <td>b\"Prince Harry sparks 'serious' constitutional...</td>\n",
              "      <td>0</td>\n",
              "      <td>0</td>\n",
              "      <td>Royal</td>\n",
              "      <td>2021-02-16 11:52</td>\n",
              "      <td>b\"Prince Harry sparks 'serious' constitutional...</td>\n",
              "      <td></td>\n",
              "      <td></td>\n",
              "      <td>[https://t.co/27WaY1Ntyo, https://t.co/NqoLOsa...</td>\n",
              "      <td>[]</td>\n",
              "    </tr>\n",
              "  </tbody>\n",
              "</table>\n",
              "</div>"
            ],
            "text/plain": [
              "              tweet_id  ...          email_address\n",
              "0  1361644136101724161  ...       [b'@thejbird904]\n",
              "1  1361644113075052553  ...  [Education.@CMU_TCD.]\n",
              "2  1361644081345142790  ...          [b\"@FENNERGY]\n",
              "3  1361644049598451714  ...                     []\n",
              "4  1361644041847386116  ...                     []\n",
              "\n",
              "[5 rows x 12 columns]"
            ]
          },
          "metadata": {
            "tags": []
          },
          "execution_count": 10
        }
      ]
    },
    {
      "cell_type": "markdown",
      "metadata": {
        "id": "fPvdOLvm3Z9J"
      },
      "source": [
        "# 4. Download the dataframe for further exploration/ text mining"
      ]
    },
    {
      "cell_type": "code",
      "metadata": {
        "colab": {
          "base_uri": "https://localhost:8080/",
          "height": 17
        },
        "id": "Wmiy74UO3e5Z",
        "outputId": "d741c7af-643c-405c-fa21-54b39fe948f8"
      },
      "source": [
        "# Export the dataframe in csv format \r\n",
        "df.to_csv(\"Preprocessed_tweetdf.csv\",index=None)\r\n",
        "files.download(\"Preprocessed_tweetdf.csv\")"
      ],
      "execution_count": 12,
      "outputs": [
        {
          "output_type": "display_data",
          "data": {
            "application/javascript": [
              "\n",
              "    async function download(id, filename, size) {\n",
              "      if (!google.colab.kernel.accessAllowed) {\n",
              "        return;\n",
              "      }\n",
              "      const div = document.createElement('div');\n",
              "      const label = document.createElement('label');\n",
              "      label.textContent = `Downloading \"${filename}\": `;\n",
              "      div.appendChild(label);\n",
              "      const progress = document.createElement('progress');\n",
              "      progress.max = size;\n",
              "      div.appendChild(progress);\n",
              "      document.body.appendChild(div);\n",
              "\n",
              "      const buffers = [];\n",
              "      let downloaded = 0;\n",
              "\n",
              "      const channel = await google.colab.kernel.comms.open(id);\n",
              "      // Send a message to notify the kernel that we're ready.\n",
              "      channel.send({})\n",
              "\n",
              "      for await (const message of channel.messages) {\n",
              "        // Send a message to notify the kernel that we're ready.\n",
              "        channel.send({})\n",
              "        if (message.buffers) {\n",
              "          for (const buffer of message.buffers) {\n",
              "            buffers.push(buffer);\n",
              "            downloaded += buffer.byteLength;\n",
              "            progress.value = downloaded;\n",
              "          }\n",
              "        }\n",
              "      }\n",
              "      const blob = new Blob(buffers, {type: 'application/binary'});\n",
              "      const a = document.createElement('a');\n",
              "      a.href = window.URL.createObjectURL(blob);\n",
              "      a.download = filename;\n",
              "      div.appendChild(a);\n",
              "      a.click();\n",
              "      div.remove();\n",
              "    }\n",
              "  "
            ],
            "text/plain": [
              "<IPython.core.display.Javascript object>"
            ]
          },
          "metadata": {
            "tags": []
          }
        },
        {
          "output_type": "display_data",
          "data": {
            "application/javascript": [
              "download(\"download_a65a0642-2c42-4936-84e2-099773017d62\", \"Preprocessed_tweetdf.csv\", 2017357)"
            ],
            "text/plain": [
              "<IPython.core.display.Javascript object>"
            ]
          },
          "metadata": {
            "tags": []
          }
        }
      ]
    },
    {
      "cell_type": "code",
      "metadata": {
        "id": "j7vOcdJ643Ii"
      },
      "source": [
        ""
      ],
      "execution_count": null,
      "outputs": []
    }
  ]
}
