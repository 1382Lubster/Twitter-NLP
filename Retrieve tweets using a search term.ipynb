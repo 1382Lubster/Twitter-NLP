import tweepy
import os
import sys
import io
import pandas as pd
import json
import csv
from datetime import datetime
from google.colab import files

# Assign twitter credentials
consumer_key= 'xxxxxxxxxxxx'
consumer_secret= 'xxxxxxxxxxxxxxxxx'
access_token= 'xxxxxxxxxxxxxxxxxxxx'
access_token_secret= 'xxxxxxxxxxxxxxxxxxx'

 
# Search word/hashtag value 
search_term = "Royal"
 
tweet_lst=[]
# Authenticate credentials to make twitter API request
auth = tweepy.OAuthHandler(consumer_key, consumer_secret)
auth.set_access_token(access_token, access_token_secret)
api = tweepy.API(auth,wait_on_rate_limit=True,wait_on_rate_limit_notify=True)
 
StartDate = "2021-02-16" #Start date, change as needed
 
 
 #Define function to fetch tweets in English language, by search term, start date and exclude retweets
 
def get_related_tweets(key_word):  
  for tweet in tweepy.Cursor(api.search,q=search_term,include_rts=False,count=10000,lang="en",since=StartDate, tweet_mode='extended').items(10000):
         if (not tweet.retweeted) and ('RT @' not in tweet.full_text):#exclude retweets
              if tweet.lang == "en":
                tweet_lst.append([tweet.id,tweet.created_at,tweet.full_text.encode('utf-8'),tweet.retweet_count,tweet.favorite_count])
                tweet_df = pd.DataFrame(tweet_lst,columns=['tweet_id','tweet_created_at','tweet_raw','tweet_retweet_count','tweet_favorite_count'])
  return tweet_df
 
 #Call the function to build the dataframe
tweet_df = get_related_tweets(search_term)
tweet_df['Search_keyword']=search_term
 
# Export the dataframe in csv format 
tweet_df.to_csv(f"{search_term}_tweetdf.csv",index=None)
print("Retrieved ", tweet_df['tweet_id'].nunique(), " tweets")

# Download the file to the local machine if using Colab
files.download(f"{search_term}_tweet_df.csv")
